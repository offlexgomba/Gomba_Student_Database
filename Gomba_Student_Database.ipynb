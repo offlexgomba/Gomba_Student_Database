{
 "cells": [
  {
   "cell_type": "code",
   "execution_count": 1,
   "id": "412a0799-c714-4666-91d3-3260febc7496",
   "metadata": {},
   "outputs": [],
   "source": [
    "students = {}"
   ]
  },
  {
   "cell_type": "code",
   "execution_count": 2,
   "id": "47eb7413-bbb6-4727-83ff-b508e4818810",
   "metadata": {},
   "outputs": [],
   "source": [
    "def add_student():\n",
    "    name = input(\"Enter student's name: \")\n",
    "    grades = list(map(int, input(\"Enter grades (comma-separated): \").split(',')))\n",
    "    students[name] = grades"
   ]
  },
  {
   "cell_type": "code",
   "execution_count": 3,
   "id": "c80ac46a-9a9b-43ae-97e0-9fa556bd236b",
   "metadata": {},
   "outputs": [],
   "source": [
    "def calculate_averages():\n",
    "    for name, grades in students.items():\n",
    "        avg = sum(grades) / len(grades)\n",
    "        print(f\"{name}'s average grade: {avg:.2f}\")"
   ]
  },
  {
   "cell_type": "code",
   "execution_count": 4,
   "id": "6d285d84-c429-40b1-8cc4-068608fb0770",
   "metadata": {},
   "outputs": [],
   "source": [
    "def find_top_student():\n",
    "    if not students:\n",
    "        print(\"No students in the database.\")\n",
    "        return\n",
    "    top_student = max(students, key=lambda x: sum(students[x]) / len(students[x]))\n",
    "    top_average = sum(students[top_student]) / len(students[top_student])\n",
    "    print(f\"Top student: {top_student} with an average grade of {top_average:.2f}\")"
   ]
  },
  {
   "cell_type": "code",
   "execution_count": 5,
   "id": "5922ea4c-c22c-4262-98a0-8af76c3cfab0",
   "metadata": {},
   "outputs": [],
   "source": [
    "def display_sorted_report():\n",
    "    for name in sorted(students):\n",
    "        print(f\"{name}: {students[name]}\")"
   ]
  },
  {
   "cell_type": "code",
   "execution_count": 8,
   "id": "8119b48b-cd7f-483c-b78e-00904e6588c2",
   "metadata": {},
   "outputs": [
    {
     "name": "stdout",
     "output_type": "stream",
     "text": [
      "\n",
      "  WELCOME TO STUDENT FILE  \n",
      "\n",
      "1. Add a new student and grades\n",
      "2. Calculate average grades\n",
      "3. Find the top student\n",
      "4. Display sorted report\n",
      "5. Exit\n"
     ]
    },
    {
     "name": "stdin",
     "output_type": "stream",
     "text": [
      "Enter your choice:  3\n"
     ]
    },
    {
     "name": "stdout",
     "output_type": "stream",
     "text": [
      "No students in the database.\n",
      "\n",
      "1. Add a new student and grades\n",
      "2. Calculate average grades\n",
      "3. Find the top student\n",
      "4. Display sorted report\n",
      "5. Exit\n"
     ]
    },
    {
     "name": "stdin",
     "output_type": "stream",
     "text": [
      "Enter your choice:  5\n"
     ]
    },
    {
     "name": "stdout",
     "output_type": "stream",
     "text": [
      "Exiting program.\n"
     ]
    }
   ],
   "source": [
    "def main_menu():\n",
    "    print(\"\\n  WELCOME TO STUDENT FILE  \")\n",
    "    while True:\n",
    "        print(\"\\n1. Add a new student and grades\")\n",
    "        print(\"2. Calculate average grades\")\n",
    "        print(\"3. Find the top student\")\n",
    "        print(\"4. Display sorted report\")\n",
    "        print(\"5. Exit\")\n",
    "        choice = input(\"Enter your choice: \")\n",
    "        if choice == '1':\n",
    "            add_student()\n",
    "        elif choice == '2':\n",
    "            calculate_averages()\n",
    "        elif choice == '3':\n",
    "            find_top_student()\n",
    "        elif choice == '4':\n",
    "            display_sorted_report()\n",
    "        elif choice == '5':\n",
    "            print(\"Exiting program.\")\n",
    "            break\n",
    "        else:\n",
    "            print(\"Invalid choice. Please try again.\")\n",
    "\n",
    "\n",
    "main_menu()"
   ]
  },
  {
   "cell_type": "code",
   "execution_count": null,
   "id": "2af077ef-bfb1-497b-9e77-0db2528225e0",
   "metadata": {},
   "outputs": [],
   "source": []
  }
 ],
 "metadata": {
  "kernelspec": {
   "display_name": "Python 3 (ipykernel)",
   "language": "python",
   "name": "python3"
  },
  "language_info": {
   "codemirror_mode": {
    "name": "ipython",
    "version": 3
   },
   "file_extension": ".py",
   "mimetype": "text/x-python",
   "name": "python",
   "nbconvert_exporter": "python",
   "pygments_lexer": "ipython3",
   "version": "3.13.2"
  }
 },
 "nbformat": 4,
 "nbformat_minor": 5
}
